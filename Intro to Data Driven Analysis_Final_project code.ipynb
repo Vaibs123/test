{
 "cells": [
  {
   "cell_type": "markdown",
   "metadata": {},
   "source": [
    "# Boston Crime Data Analysis\n",
    "\n",
    "## Introduction\n",
    "\n",
    " - This project contains 9 datasets of the Boston Police Department\n",
    "\n",
    "Objective:\n",
    "- Analyse crime in different areas in Boston over time \n",
    "- Identify seasonality trends\n",
    "- Determine the safest neighborhoods in the locality \n",
    "\n",
    "Process:\n",
    "- Data Loading and preprocessing\n",
    "- Data Analysis to support real world problems"
   ]
  },
  {
   "cell_type": "code",
   "execution_count": 3,
   "metadata": {
    "id": "6x45IXFQ8Y2k"
   },
   "outputs": [],
   "source": [
    "from IPython.display import display, HTML\n",
    "import pandas as pd\n",
    "import sqlite3\n",
    "from sqlite3 import Error\n",
    "import csv\n",
    "import matplotlib.pyplot as plt\n",
    "import numpy as np\n",
    "from matplotlib.pyplot import figure\n",
    "from colour import Color\n",
    "from sklearn.preprocessing import LabelEncoder\n",
    "import seaborn as sn"
   ]
  },
  {
   "cell_type": "code",
   "execution_count": 4,
   "metadata": {},
   "outputs": [],
   "source": [
    "def create_connection(db_file, delete_db=False):\n",
    "    import os\n",
    "    if delete_db and os.path.exists(db_file):\n",
    "        os.remove(db_file)\n",
    "    conn = None\n",
    "    try:\n",
    "        conn = sqlite3.connect(db_file)\n",
    "        conn.execute(\"PRAGMA foreign_keys = 1\")\n",
    "    except Error as e:\n",
    "        print(e)\n",
    "\n",
    "    return conn\n",
    "\n",
    "\n",
    "def create_table(conn, create_table_sql):\n",
    "    try:\n",
    "        c = conn.cursor()\n",
    "        c.execute(create_table_sql)\n",
    "    except Error as e:\n",
    "        print(e)\n",
    "        \n",
    "def execute_sql_statement(sql_statement, conn):\n",
    "    cur = conn.cursor()\n",
    "    cur.execute(sql_statement)\n",
    "\n",
    "    rows = cur.fetchall()\n",
    "\n",
    "    return rows\n",
    "\n",
    "def insert_data(file,create_statement,insert_statement,val):\n",
    "    dr ={}\n",
    "    conn = create_connection('Boston_crime.db', True)\n",
    "    cur = conn.cursor()\n",
    "    with conn:\n",
    "        create_table(conn,create_statement)\n",
    "    with open(file,'r') as file:\n",
    "        shootings_dict = csv.DictReader(file)\n",
    "    cur.executemany(insert_statement,val)\n",
    "    conn.commit()\n",
    "    conn.close()\n",
    "\n",
    "def Crime_Inc_Rep(file):\n",
    "    conn = create_connection('Boston_crime.db', True)\n",
    "    cur = conn.cursor()\n",
    "    with open(file,'r') as file:\n",
    "        my_dict = csv.DictReader(file)\n",
    "        val = [(i['INCIDENT_NUMBER'],i['OFFENSE_CODE'],i['OFFENSE_CODE_GROUP'],i['OFFENSE_DESCRIPTION']\n",
    "            ,i['DISTRICT'],i['REPORTING_AREA'],i['SHOOTING'],i['OCCURRED_ON_DATE']\n",
    "            ,i['YEAR'],i['MONTH'],i['DAY_OF_WEEK'],i['HOUR']\n",
    "            ,i['UCR_PART'],i['STREET'],i['Lat'],i['Long']\n",
    "            ,i['Location']) for i in my_dict]\n",
    "\n",
    "    cur.executemany(\"INSERT INTO Crime_Incident_Reports VALUES (?,?,?,?,?,?,?,?,?,?,?,?,?,?,?,?,?)\",val)\n",
    "    conn.commit()\n",
    "    conn.close()\n",
    "\n",
    "conn = create_connection('Boston_crime.db', True)\n",
    "cur = conn.cursor()"
   ]
  },
  {
   "cell_type": "code",
   "execution_count": 5,
   "metadata": {
    "colab": {
     "base_uri": "https://localhost:8080/",
     "height": 234
    },
    "id": "gxNBXjteDtkY",
    "outputId": "668ee82e-1c03-4b3e-e378-f1ee4dfb9c20"
   },
   "outputs": [],
   "source": [
    "#Shootings Table Data\n",
    "dr ={}\n",
    "\n",
    "sql_statement = '''CREATE table Shootings (Incident_Num TEXT, Shooting_Date TEXT, \n",
    "                  District TEXT, Shooting_Type_V2 TEXT, Victim_Gender TEXT, \n",
    "                  Victim_Race TEXT,Victim_Ethnicity_NIBRS TEXT,Multi_Victim TEXT);'''\n",
    "with conn:\n",
    "    create_table(conn,sql_statement)\n",
    "with open('Shootings.csv','r') as file:\n",
    "    shootings_dict = csv.DictReader(file)\n",
    "    val = [(i['Incident_Num'],i['Shooting_Date'],i['District'],i['Shooting_Type_V2'],i['Victim_Gender'],i['Victim_Race'],i['Victim_Ethnicity_NIBRS'],i['Multi_Victim']) for i in shootings_dict]\n",
    "\n",
    "cur.executemany(\"INSERT INTO SHOOTINGS VALUES (?,?,?,?,?,?,?,?)\",val)\n",
    "conn.commit()\n",
    "    "
   ]
  },
  {
   "cell_type": "code",
   "execution_count": 6,
   "metadata": {},
   "outputs": [],
   "source": [
    "#Shots Fired Table Data\n",
    "dr ={}\n",
    "sql_statement = '''CREATE table Shots_Fired(Incident_Num TEXT, Incident_Date TEXT, \n",
    "                  District TEXT, Ballistics_Evidence TEXT);'''\n",
    "with conn:\n",
    "    create_table(conn,sql_statement)\n",
    "with open('Shots_Fired.csv','r') as file:\n",
    "    my_dict = csv.DictReader(file)\n",
    "    val = [(i['Incident_Num'],i['Incident_Date'],i['District'],i['Ballistics_Evidence']) for i in my_dict]\n",
    "\n",
    "cur.executemany(\"INSERT INTO Shots_Fired VALUES (?,?,?,?)\",val)\n",
    "conn.commit()\n"
   ]
  },
  {
   "cell_type": "code",
   "execution_count": 7,
   "metadata": {},
   "outputs": [],
   "source": [
    "#Crime Incident Report Table Data\n",
    "dr ={}\n",
    "\n",
    "sql_statement = '''CREATE table Crime_Incident_Reports(Incident_Num TEXT, Offense_Code TEXT, \n",
    "       Offense_Code_Group TEXT, Offense_Description TEXT, District TEXT,\n",
    "       Reporting_Area TEXT, Shooting TEXT, Occurred_On_Date TEXT, \n",
    "       Year TEXT, Month TEXT,Day_Of_Week TEXT, Hour TEXT, UCR_Part,\n",
    "       Street TEXT, Lat TEXT,Long TEXT, Location TEXT);'''\n",
    "with conn:\n",
    "    create_table(conn,sql_statement)\n",
    "\n",
    "# Crime_Inc_Rep('crime-incident-reports-2015.csv')\n",
    "# Crime_Inc_Rep('crime-incident-reports-2016.csv')\n",
    "  \n",
    "with open('crime-incident-reports-2015.csv','r') as file:\n",
    "    my_dict = csv.DictReader(file)\n",
    "    val = [(i['INCIDENT_NUMBER'],i['OFFENSE_CODE'],i['OFFENSE_CODE_GROUP'],i['OFFENSE_DESCRIPTION']\n",
    "          ,i['DISTRICT'],i['REPORTING_AREA'],i['SHOOTING'],i['OCCURRED_ON_DATE']\n",
    "          ,i['YEAR'],i['MONTH'],i['DAY_OF_WEEK'],i['HOUR']\n",
    "          ,i['UCR_PART'],i['STREET'],i['Lat'],i['Long']\n",
    "          ,i['Location']) for i in my_dict]\n",
    "cur.executemany(\"INSERT INTO Crime_Incident_Reports VALUES (?,?,?,?,?,?,?,?,?,?,?,?,?,?,?,?,?)\",val)\n",
    "\n",
    "with open('crime-incident-reports-2016.csv','r') as file:\n",
    "    my_dict = csv.DictReader(file)\n",
    "    val = [(i['INCIDENT_NUMBER'],i['OFFENSE_CODE'],i['OFFENSE_CODE_GROUP'],i['OFFENSE_DESCRIPTION']\n",
    "          ,i['DISTRICT'],i['REPORTING_AREA'],i['SHOOTING'],i['OCCURRED_ON_DATE']\n",
    "          ,i['YEAR'],i['MONTH'],i['DAY_OF_WEEK'],i['HOUR']\n",
    "          ,i['UCR_PART'],i['STREET'],i['Lat'],i['Long']\n",
    "          ,i['Location']) for i in my_dict]\n",
    "cur.executemany(\"INSERT INTO Crime_Incident_Reports VALUES (?,?,?,?,?,?,?,?,?,?,?,?,?,?,?,?,?)\",val)\n",
    "\n",
    "with open('crime-incident-reports-2017.csv','r') as file:\n",
    "    my_dict = csv.DictReader(file)\n",
    "    val = [(i['INCIDENT_NUMBER'],i['OFFENSE_CODE'],i['OFFENSE_CODE_GROUP'],i['OFFENSE_DESCRIPTION']\n",
    "          ,i['DISTRICT'],i['REPORTING_AREA'],i['SHOOTING'],i['OCCURRED_ON_DATE']\n",
    "          ,i['YEAR'],i['MONTH'],i['DAY_OF_WEEK'],i['HOUR']\n",
    "          ,i['UCR_PART'],i['STREET'],i['Lat'],i['Long']\n",
    "          ,i['Location']) for i in my_dict]\n",
    "cur.executemany(\"INSERT INTO Crime_Incident_Reports VALUES (?,?,?,?,?,?,?,?,?,?,?,?,?,?,?,?,?)\",val)\n",
    "\n",
    "with open('crime-incident-reports-2018.csv','r') as file:\n",
    "    my_dict = csv.DictReader(file)\n",
    "    val = [(i['INCIDENT_NUMBER'],i['OFFENSE_CODE'],i['OFFENSE_CODE_GROUP'],i['OFFENSE_DESCRIPTION']\n",
    "          ,i['DISTRICT'],i['REPORTING_AREA'],i['SHOOTING'],i['OCCURRED_ON_DATE']\n",
    "          ,i['YEAR'],i['MONTH'],i['DAY_OF_WEEK'],i['HOUR']\n",
    "          ,i['UCR_PART'],i['STREET'],i['Lat'],i['Long']\n",
    "          ,i['Location']) for i in my_dict]\n",
    "cur.executemany(\"INSERT INTO Crime_Incident_Reports VALUES (?,?,?,?,?,?,?,?,?,?,?,?,?,?,?,?,?)\",val)\n",
    "\n",
    "with open('Crime_Incident_Reports_2019.csv','r') as file:\n",
    "    my_dict = csv.DictReader(file)\n",
    "    val = [(i['INCIDENT_NUMBER'],i['OFFENSE_CODE'],i['OFFENSE_CODE_GROUP'],i['OFFENSE_DESCRIPTION']\n",
    "          ,i['DISTRICT'],i['REPORTING_AREA'],i['SHOOTING'],i['OCCURRED_ON_DATE']\n",
    "          ,i['YEAR'],i['MONTH'],i['DAY_OF_WEEK'],i['HOUR']\n",
    "          ,i['UCR_PART'],i['STREET'],i['Lat'],i['Long']\n",
    "          ,i['Location']) for i in my_dict]\n",
    "cur.executemany(\"INSERT INTO Crime_Incident_Reports VALUES (?,?,?,?,?,?,?,?,?,?,?,?,?,?,?,?,?)\",val)\n",
    "\n",
    "\n",
    "with open('Crime_Incident_Reports_2020.csv','r') as file:\n",
    "    my_dict = csv.DictReader(file)\n",
    "    val = [(i['INCIDENT_NUMBER'],i['OFFENSE_CODE'],i['OFFENSE_CODE_GROUP'],i['OFFENSE_DESCRIPTION']\n",
    "          ,i['DISTRICT'],i['REPORTING_AREA'],i['SHOOTING'],i['OCCURRED_ON_DATE']\n",
    "          ,i['YEAR'],i['MONTH'],i['DAY_OF_WEEK'],i['HOUR']\n",
    "          ,i['UCR_PART'],i['STREET'],i['Lat'],i['Long']\n",
    "          ,i['Location']) for i in my_dict]\n",
    "cur.executemany(\"INSERT INTO Crime_Incident_Reports VALUES (?,?,?,?,?,?,?,?,?,?,?,?,?,?,?,?,?)\",val)\n",
    "\n",
    "\n",
    "with open('Crime_Incident_Reports_2021.csv','r') as file:\n",
    "    my_dict = csv.DictReader(file)\n",
    "    val = [(i['INCIDENT_NUMBER'],i['OFFENSE_CODE'],i['OFFENSE_CODE_GROUP'],i['OFFENSE_DESCRIPTION']\n",
    "          ,i['DISTRICT'],i['REPORTING_AREA'],i['SHOOTING'],i['OCCURRED_ON_DATE']\n",
    "          ,i['YEAR'],i['MONTH'],i['DAY_OF_WEEK'],i['HOUR']\n",
    "          ,i['UCR_PART'],i['STREET'],i['Lat'],i['Long']\n",
    "          ,i['Location']) for i in my_dict]\n",
    "cur.executemany(\"INSERT INTO Crime_Incident_Reports VALUES (?,?,?,?,?,?,?,?,?,?,?,?,?,?,?,?,?)\",val)\n",
    "\n",
    "\n",
    "conn.commit()\n",
    "\n"
   ]
  },
  {
   "cell_type": "code",
   "execution_count": 8,
   "metadata": {},
   "outputs": [],
   "source": [
    "#BEST Table data\n",
    "\n",
    "dr ={}\n",
    "sql_statement = '''CREATE table Best(Month TEXT, Incidents TEXT, \n",
    "                  Proactive_Engagements TEXT);'''\n",
    "with conn:\n",
    "    create_table(conn,sql_statement)\n",
    "with open('Boston Emergency Services Team Best.csv','r') as file:\n",
    "    my_dict = csv.DictReader(file)\n",
    "    val = [(i['Month'],i['incidents'],i['proactive_engagements']) for i in my_dict]\n",
    "\n",
    "cur.executemany(\"INSERT INTO Best VALUES (?,?,?)\",val)\n",
    "conn.commit()\n"
   ]
  },
  {
   "cell_type": "code",
   "execution_count": 9,
   "metadata": {},
   "outputs": [],
   "source": [
    "# in_custody_death Table data\n",
    "dr ={}\n",
    "sql_statement = '''CREATE table in_custody_deaths(incident_number TEXT, incident_date TEXT, \n",
    "                  incident_location TEXT, incident_district TEXT,during_arrest TEXT, during_transport TEXT,\n",
    "                  while_in_holding_cell TEXT, other TEXT,\n",
    "                  prisoner_age TEXT, prisoner_race TEXT,\n",
    "                  prisoner_sex_mf TEXT);'''\n",
    "with conn:\n",
    "    create_table(conn,sql_statement)\n",
    "with open('in-custody-deaths.csv','r') as file:\n",
    "    my_dict = csv.DictReader(file)\n",
    "    val = [(i['incident_number'],i['incident_date'],i['incident_location']\n",
    "          ,i['incident_district'],i['during_arrest'],i['during_transport'],i['while_in_holding_cell']\n",
    "          ,i['other'],i['prisoner_age'],i['prisoner_race'],i['prisoner_sex_mf']) for i in my_dict]\n",
    "\n",
    "cur.executemany(\"INSERT INTO in_custody_deaths VALUES (?,?,?,?,?,?,?,?,?,?,?)\",val)\n",
    "conn.commit()\n",
    "\n"
   ]
  },
  {
   "cell_type": "code",
   "execution_count": 10,
   "metadata": {},
   "outputs": [],
   "source": [
    "# bpd_firearm_recovery_counts table data\n",
    "dr ={}\n",
    "sql_statement = '''CREATE table bpd_firearm_recovery_counts(collection_date TEXT, crime_guns_recovered TEXT, \n",
    "                  guns_recovered_safeguard TEXT, buyback_gunsrecovered);'''\n",
    "with conn:\n",
    "    create_table(conn,sql_statement)\n",
    "with open('BPD Firearm Recovery Counts.csv','r') as file:\n",
    "    my_dict = csv.DictReader(file)\n",
    "    val = [(i['CollectionDate'],i['CrimeGunsRecovered'],i['GunsRecoveredSafeguard']\n",
    "          ,i['BuybackGunsRecovered']) for i in my_dict]\n",
    "\n",
    "cur.executemany(\"INSERT INTO bpd_firearm_recovery_counts VALUES (?,?,?,?)\",val)\n",
    "conn.commit()\n"
   ]
  },
  {
   "cell_type": "code",
   "execution_count": 11,
   "metadata": {},
   "outputs": [],
   "source": [
    "# homicide_clearance_rate table data\n",
    "dr ={}\n",
    "sql_statement = '''CREATE table homicide_clearance_rate(year TEXT, homicides TEXT, \n",
    "                  same_year_clear TEXT, previous_year_clear TEXT, \n",
    "                  same_year_not_cleared TEXT, total_clear TEXT,\n",
    "                  percent_cleared_same_year TEXT, percent_cleared_previous_year TEXT,\n",
    "                  percent_not_cleared_same_year TEXT, clearance_rate TEXT,\n",
    "                  percent_of_cleared_same_year TEXT, percent_of_cleared_previous_year TEXT);'''\n",
    "with conn:\n",
    "    create_table(conn,sql_statement)\n",
    "with open('homicide-clearance-rate.csv','r') as file:\n",
    "    my_dict = csv.DictReader(file)\n",
    "    val = [(i['Year'],i['Homicides'],i['Same Year Clear']\n",
    "          ,i['Previous Year Clear'],i['Same Year Not Cleared'],i['Total Clear']\n",
    "          ,i['Percent Cleared Same Year'],i['Percent Cleared Previous Year']\n",
    "          ,i['Percent Not Cleared Same Year'],i['Clearance Rate'],i['Percent of Cleared Same Year']\n",
    "          ,i['Percent of Cleared Previous Year']) for i in my_dict]\n",
    "\n",
    "cur.executemany(\"INSERT INTO homicide_clearance_rate VALUES (?,?,?,?,?,?,?,?,?,?,?,?)\",val)\n",
    "conn.commit()\n"
   ]
  },
  {
   "cell_type": "code",
   "execution_count": 12,
   "metadata": {},
   "outputs": [],
   "source": [
    "#historical_data_crime_incident_reports table data\n",
    "dr ={}\n",
    "sql_statement = '''CREATE table historical_data_crime_incident_reports(compnos TEXT, nature_code TEXT, \n",
    "                  incident_type_desc TEXT, main_crime_code TEXT, \n",
    "                  rept_district TEXT, reporting_area TEXT,\n",
    "                  from_date TEXT, weapon_type TEXT,\n",
    "                  shooting TEXT, domestic TEXT,\n",
    "                  shift TEXT, year TEXT,month TEXT, day_week TEXT,\n",
    "                  ucr_part TEXT, x TEXT, y TEXT,\n",
    "                  street_name TEXT, xstreet_name TEXT,location TEXT);'''\n",
    "with conn:\n",
    "    create_table(conn,sql_statement)\n",
    "with open('crime-incident-reports-july-2012-august-2015-source-legacy-system.csv','r') as file:\n",
    "    my_dict = csv.DictReader(file)\n",
    "    val = [(i['COMPNOS'],i['NatureCode'],i['INCIDENT_TYPE_DESCRIPTION']\n",
    "          ,i['MAIN_CRIMECODE'],i['REPTDISTRICT'],i['REPORTINGAREA']\n",
    "          ,i['FROMDATE'],i['WEAPONTYPE']\n",
    "          ,i['Shooting'],i['DOMESTIC'],i['SHIFT']\n",
    "          ,i['Year'],i['Month'],i['DAY_WEEK'],i['UCRPART']\n",
    "          ,i['X'],i['Y'],i['STREETNAME']\n",
    "          ,i['XSTREETNAME'],i['Location']) for i in my_dict]\n",
    "\n",
    "cur.executemany(\"INSERT INTO historical_data_crime_incident_reports VALUES (?,?,?,?,?,?,?,?,?,?,?,?,?,?,?,?,?,?,?,?)\",val)\n",
    "conn.commit()"
   ]
  },
  {
   "cell_type": "code",
   "execution_count": 13,
   "metadata": {},
   "outputs": [],
   "source": [
    "#rmsoffensecodes Table data\n",
    "dr ={}\n",
    "sql_statement = '''CREATE table rmsoffensecodes(code TEXT, name TEXT);'''\n",
    "with conn:\n",
    "    create_table(conn,sql_statement)\n",
    "with open('rmsoffensecodes.csv','r') as file:\n",
    "    my_dict = csv.DictReader(file)\n",
    "    val = [(i['CODE'],i['NAME']) for i in my_dict]\n",
    "\n",
    "cur.executemany(\"INSERT INTO rmsoffensecodes VALUES (?,?)\",val)\n",
    "conn.commit()"
   ]
  },
  {
   "cell_type": "markdown",
   "metadata": {},
   "source": [
    "# Data Pre-Processing"
   ]
  },
  {
   "cell_type": "code",
   "execution_count": 14,
   "metadata": {},
   "outputs": [],
   "source": [
    "sql_statement = \"\"\"\n",
    "    create table dp_crime_table_score_card as \n",
    "    \n",
    "    with distinct_vals as \n",
    "    (\n",
    "    select \n",
    "    \n",
    "        distinct \n",
    "        cast(Offense_Code as int) as Offense_Code, \n",
    "        case \n",
    "            when \n",
    "                lower(Offense_Description) like '%kill%' or\n",
    "                lower(Offense_Description) like '%murder%' or\n",
    "                lower(Offense_Description) like '%prostitution%' or\n",
    "                lower(Offense_Description) like '%burglary%' or\n",
    "                lower(Offense_Description) like '%bomb%' or\n",
    "                lower(Offense_Description) like '%kidnapping%' or\n",
    "                lower(Offense_Description) like '%manslaughter%' or\n",
    "                lower(Offense_Description) like '%homicide%' or\n",
    "                lower(Offense_Description) like '%robbery%' or\n",
    "                lower(Offense_Description) like '%weapon%'\n",
    "            then 1000\n",
    "            when \n",
    "                lower(Offense_Description) like '%stole%' or\n",
    "                lower(Offense_Description) like '%warrant%' or\n",
    "                lower(Offense_Description) like '%prisoner%' or\n",
    "                lower(Offense_Description) like '%assault%' or\n",
    "                lower(Offense_Description) like '%larceny%' or\n",
    "                lower(Offense_Description) like '%trafficking%' or\n",
    "                lower(Offense_Description) like '%firearm%' or\n",
    "                lower(Offense_Description) like '%drug%' or\n",
    "                lower(Offense_Description) like '%theft%'\n",
    "            then 500\n",
    "            else 100\n",
    "        end as Crime_Score,\n",
    "        Offense_Description\n",
    "    \n",
    "    from Crime_Incident_Reports \n",
    "    )\n",
    "    select \n",
    "        ROW_NUMBER() OVER (ORDER BY Offense_Code) as score_card_id,\n",
    "        Offense_Code,\n",
    "        Crime_Score,\n",
    "        Offense_Description\n",
    "    from \n",
    "        distinct_vals\n",
    "    ;\n",
    "    \"\"\"\n",
    "conn.execute(sql_statement)\n",
    "conn.commit()"
   ]
  },
  {
   "cell_type": "code",
   "execution_count": 15,
   "metadata": {},
   "outputs": [],
   "source": [
    "sql_statement = \"\"\"\n",
    "    create table dp_district as \n",
    "    with distinct_vals as \n",
    "    (\n",
    "        select distinct district \n",
    "        from Crime_Incident_Reports \n",
    "        WHERE ltrim(rtrim(district)) <> ''\n",
    "            and lower(district) <> 'external'\n",
    "    ) select \n",
    "    ROW_NUMBER() OVER (ORDER BY district) as district_id,\n",
    "        district\n",
    "    from distinct_vals\n",
    "    ;\n",
    "    \"\"\"\n",
    "conn.execute(sql_statement)\n",
    "conn.commit()"
   ]
  },
  {
   "cell_type": "code",
   "execution_count": 16,
   "metadata": {},
   "outputs": [],
   "source": [
    "\n",
    "sql_statement = \"\"\"\n",
    "    create table dp_shooting_fatality as \n",
    "    with distinct_vals as \n",
    "    (\n",
    "        select distinct \n",
    "            Shooting_Type_V2\n",
    "    from \n",
    "        Shootings\n",
    "    )\n",
    "    select \n",
    "        ROW_NUMBER() OVER (ORDER BY Shooting_Type_V2) as shooting_type_v2_id,\n",
    "        Shooting_Type_V2\n",
    "    from\n",
    "        distinct_vals\n",
    "    ;\n",
    "    \"\"\"\n",
    "conn.execute(sql_statement)\n",
    "conn.commit()"
   ]
  },
  {
   "cell_type": "code",
   "execution_count": 17,
   "metadata": {},
   "outputs": [],
   "source": [
    "\n",
    "sql_statement = \"\"\"\n",
    "    create table dp_ethnicity as \n",
    "    with distinct_vals as \n",
    "    (select distinct \n",
    "        Victim_Ethnicity_NIBRS as Ethnicity\n",
    "    from Shootings\n",
    "    WHERE ltrim(rtrim(Victim_Ethnicity_NIBRS)) <> ''\n",
    "    )\n",
    "    select ROW_NUMBER() OVER (ORDER BY Ethnicity) as ethnicity_id,\n",
    "        Ethnicity\n",
    "    from distinct_vals\n",
    "    ;\n",
    "    \"\"\"\n",
    "conn.execute(sql_statement)\n",
    "conn.commit()"
   ]
  },
  {
   "cell_type": "code",
   "execution_count": 18,
   "metadata": {},
   "outputs": [],
   "source": [
    "\n",
    "sql_statement = \"\"\"\n",
    "    create table dp_race as \n",
    "    with distinct_vals as \n",
    "    (\n",
    "        select distinct \n",
    "            Victim_Race as race  \n",
    "    from Shootings\n",
    "    WHERE ltrim(rtrim(Victim_Race)) <> ''\n",
    "    )\n",
    "    select ROW_NUMBER() OVER (ORDER BY Race) as race_id,\n",
    "        Race\n",
    "    from \n",
    "    distinct_vals\n",
    "    ;\n",
    "    \"\"\"\n",
    "conn.execute(sql_statement)\n",
    "conn.commit()"
   ]
  },
  {
   "cell_type": "code",
   "execution_count": 19,
   "metadata": {},
   "outputs": [],
   "source": [
    "\n",
    "sql_statement = \"\"\"\n",
    "    create table dp_gender as \n",
    "    with distinct_vals as \n",
    "    (\n",
    "        select distinct \n",
    "            Victim_Gender as gender\n",
    "    from Shootings\n",
    "    WHERE ltrim(rtrim(Victim_Gender)) <> ''\n",
    "    )\n",
    "    select \n",
    "    ROW_NUMBER() OVER (ORDER BY Gender) as gender_id,\n",
    "        Gender\n",
    "     from distinct_vals\n",
    "    ;\n",
    "    \"\"\"\n",
    "conn.execute(sql_statement)\n",
    "conn.commit()"
   ]
  },
  {
   "cell_type": "markdown",
   "metadata": {},
   "source": [
    "# Data Analysis"
   ]
  },
  {
   "cell_type": "markdown",
   "metadata": {},
   "source": [
    "### Trend analysis: Total incidents in Boston between the year 2015-21"
   ]
  },
  {
   "cell_type": "code",
   "execution_count": 20,
   "metadata": {},
   "outputs": [
    {
     "data": {
      "image/png": "[encoded data removed]",
      "text/plain": [
       "<Figure size 432x288 with 1 Axes>"
      ]
     },
     "metadata": {
      "needs_background": "light"
     },
     "output_type": "display_data"
    }
   ],
   "source": [
    "sql1a = \"\"\"SELECT Year, count(Incident_Num) Incident_Count \n",
    "        from Crime_Incident_Reports\n",
    "    GROUP BY Year\"\"\"\n",
    "df1a = pd.read_sql_query(sql1a, conn)\n",
    "\n",
    "plt.plot(df1a['Year'], df1a['Incident_Count'])\n",
    "plt.xlabel('Year')\n",
    "plt.ylabel('Incident Count')\n",
    "plt.title('Incident counts in Boston between 2015 - 2021')\n",
    "plt.grid(True)\n",
    "# conn.execute(sql1a)\n",
    "# conn.commit()"
   ]
  },
  {
   "cell_type": "markdown",
   "metadata": {},
   "source": [
    "### Safe and unsafe districts in Boston in the year 2021"
   ]
  },
  {
   "cell_type": "code",
   "execution_count": 21,
   "metadata": {},
   "outputs": [
    {
     "data": {
      "image/png": "[encoded data removed]",
      "text/plain": [
       "<Figure size 864x504 with 1 Axes>"
      ]
     },
     "metadata": {
      "needs_background": "light"
     },
     "output_type": "display_data"
    }
   ],
   "source": [
    "sql1b = \"\"\"\n",
    "   SELECT District, count(Incident_Num) Incident_Counts\n",
    "        from Crime_Incident_Reports\n",
    "        WHERE District NOT IN (\"\",\"External\")\n",
    "        AND Year = 2021\n",
    "        GROUP BY District\n",
    "        ORDER BY 2 DESC\"\"\"\n",
    "df1b = pd.read_sql_query(sql1b, conn)\n",
    "fig = plt.figure(figsize = (12, 7))\n",
    " # creating the bar plot\n",
    "red = Color(\"red\")\n",
    "colors = list(red.range_to(Color(\"green\"),len(df1b)))\n",
    "colors = [color.rgb for color in colors]\n",
    "\n",
    "plt.bar(x = \"District\", height = \"Incident_Counts\", data=df1b, color =colors, width = 0.5)\n",
    " \n",
    "plt.title(\"District-wise incident counts for the year 2021\")\n",
    "plt.xlabel('District')\n",
    "plt.ylabel('Incident_Counts')\n",
    "plt.show()"
   ]
  },
  {
   "cell_type": "markdown",
   "metadata": {},
   "source": [
    "### % Incidents with Shooting"
   ]
  },
  {
   "cell_type": "code",
   "execution_count": 22,
   "metadata": {},
   "outputs": [
    {
     "data": {
      "image/png": "[encoded data removed]",
      "text/plain": [
       "<Figure size 720x360 with 1 Axes>"
      ]
     },
     "metadata": {},
     "output_type": "display_data"
    }
   ],
   "source": [
    "shooting_agg = pd.read_sql_query(\"\"\"SELECT Shooting, count(Incident_Num) Incident_Count \n",
    "                            from Crime_Incident_Reports \n",
    "                            WHERE Year = 2021\n",
    "                            Group by Shooting\"\"\", conn)\n",
    "shooting_agg['Shooting'] = shooting_agg['Shooting'].replace('1','Y')\n",
    "shooting_agg['Shooting'] = shooting_agg['Shooting'].replace('0','N')\n",
    "shooting_agg = shooting_agg.groupby('Shooting').sum().reset_index()\n",
    "shooting_agg['% Shooting Incidents'] = round(shooting_agg['Incident_Count']/(shooting_agg['Incident_Count'].sum()) * 100,2)\n",
    "# shooting_agg\n",
    "\n",
    "fig = plt.figure(figsize = (10, 5))\n",
    "plt.pie(shooting_agg['% Shooting Incidents'], labels = shooting_agg['Shooting'], autopct='%.0f%%')\n",
    "plt.title('% Shooting Incidents')\n",
    "plt.legend()\n",
    "plt.show()"
   ]
  },
  {
   "cell_type": "markdown",
   "metadata": {},
   "source": [
    "### Hour of the day with maximum and minimum incidents"
   ]
  },
  {
   "cell_type": "code",
   "execution_count": 23,
   "metadata": {},
   "outputs": [
    {
     "data": {
      "image/png": "[encoded data removed]",
      "text/plain": [
       "<Figure size 720x360 with 1 Axes>"
      ]
     },
     "metadata": {
      "needs_background": "light"
     },
     "output_type": "display_data"
    }
   ],
   "source": [
    "hourly_agg = pd.read_sql_query(\"\"\"SELECT Hour, count(Incident_Num) Incident_Count \n",
    "                            from Crime_Incident_Reports \n",
    "                            WHERE Year = 2021\n",
    "                            Group by Hour\n",
    "                            ORDER BY Hour\"\"\", conn)\n",
    "# hourly_agg['Hour'] = hourly_agg['Hour'].replace('1','Y')\n",
    "hourly_agg['% Hourly Crimes'] = round(hourly_agg['Incident_Count']/(hourly_agg['Incident_Count'].sum()) * 100,2)\n",
    "# shooting_agg\n",
    "# hourly_agg.sort_values('Hour')\n",
    "hourly_agg['Hour'] = pd.to_numeric(hourly_agg['Hour'])\n",
    "hourly_agg = hourly_agg.sort_values('Hour')\n",
    "fig = plt.figure(figsize = (10, 5))\n",
    " # creating the bar plot\n",
    "plt.bar(x = \"Hour\", height = \"% Hourly Crimes\", data=hourly_agg, color ='grey',\n",
    "        width = 0.5,)\n",
    " \n",
    "plt.title(\"Hourly Crime rate analysis\")\n",
    "plt.xlabel('Hour')\n",
    "plt.ylabel('% Hourly Crimes')\n",
    "plt.show()"
   ]
  },
  {
   "cell_type": "markdown",
   "metadata": {},
   "source": [
    "### Define crime rate as No. of crimes per day in each district"
   ]
  },
  {
   "cell_type": "code",
   "execution_count": 24,
   "metadata": {},
   "outputs": [
    {
     "data": {
      "image/png": "[encoded data removed]",
      "text/plain": [
       "<Figure size 720x360 with 1 Axes>"
      ]
     },
     "metadata": {
      "needs_background": "light"
     },
     "output_type": "display_data"
    }
   ],
   "source": [
    "cr_per_day = pd.read_sql_query(\"\"\"SELECT District, count(Incident_Num)/Count(Distinct Date(Occurred_On_Date)) Avg_incidents_per_day from Crime_Incident_Reports \n",
    "                WHERE Year in (2021, 2020, 2019)\n",
    "                GROUP BY District\n",
    "                ORDER BY Avg_incidents_per_day\n",
    "                \"\"\", conn)\n",
    "\n",
    "fig = plt.figure(figsize = (10, 5))\n",
    " # creating the bar plot\n",
    "plt.bar(x = \"District\", height = \"Avg_incidents_per_day\", data=cr_per_day, color ='Blue',label='Avg_incidents_per_day')\n",
    "plt.title(\"District-wise Average Incidents per day\")\n",
    "plt.xlabel('District')\n",
    "plt.ylabel('Avg_incidents_per_day')\n",
    "plt.show()"
   ]
  },
  {
   "cell_type": "markdown",
   "metadata": {},
   "source": [
    "### Identify the seasonality in crimes from the Crime Incident Reports"
   ]
  },
  {
   "cell_type": "code",
   "execution_count": 25,
   "metadata": {},
   "outputs": [
    {
     "data": {
      "text/plain": [
       "<matplotlib.legend.Legend at 0x15c470fedf0>"
      ]
     },
     "execution_count": 25,
     "metadata": {},
     "output_type": "execute_result"
    },
    {
     "data": {
      "image/png": "[encoded data removed]",
      "text/plain": [
       "<Figure size 864x504 with 1 Axes>"
      ]
     },
     "metadata": {
      "needs_background": "light"
     },
     "output_type": "display_data"
    }
   ],
   "source": [
    "seasonality = pd.read_sql_query(\"\"\"SELECT Month, Year, Count(Incident_Num) No_of_incidents FROM Crime_Incident_Reports \n",
    "                WHERE Year in (2021, 2020, 2019, 2018, 2017, 2016)\n",
    "                GROUP BY Month, Year\n",
    "                \"\"\", conn)\n",
    "seasonality['Month'] = pd.to_numeric(seasonality['Month'])\n",
    "seasonality['Year'] = pd.to_numeric(seasonality['Year'])\n",
    "seasonality = seasonality.sort_values(['Year','Month'])\n",
    "seasonality_pvt = seasonality.pivot_table(index = ['Month'],\n",
    "                    columns='Year', \n",
    "                    values='No_of_incidents', \n",
    "                    aggfunc='sum').reset_index(drop = False)\n",
    "\n",
    "fig = plt.figure(figsize = (12, 7))\n",
    "plt.plot(seasonality_pvt['Month'], seasonality_pvt[2016], label='2016')\n",
    "plt.plot(seasonality_pvt['Month'], seasonality_pvt[2017], label='2017')\n",
    "plt.plot(seasonality_pvt['Month'], seasonality_pvt[2018], label='2018')\n",
    "plt.plot(seasonality_pvt['Month'], seasonality_pvt[2019], label='2019')\n",
    "plt.plot(seasonality_pvt['Month'], seasonality_pvt[2020], label='2020')\n",
    "plt.plot(seasonality_pvt['Month'], seasonality_pvt[2021], label='2021')\n",
    "# plt.plot(df_line1['Year'], df_line1['Rape'], label='Rape')\n",
    "# plt.plot(df_line1['Year'], df_line1['Robbery'], label='Robbery')\n",
    "# plt.plot(df_line1['Year'], df_line1['Aggravated_Assault'], label='Aggravated_Assault')\n",
    "\n",
    "plt.xlabel('Year')\n",
    "plt.ylabel('Incident Count')\n",
    "plt.title('Incident counts in Boston between 2015 - 2021')\n",
    "plt.legend(loc='upper right')"
   ]
  },
  {
   "cell_type": "markdown",
   "metadata": {},
   "source": [
    "### Identifying the correlation between crime hours and the crime rate"
   ]
  },
  {
   "cell_type": "code",
   "execution_count": 26,
   "metadata": {},
   "outputs": [
    {
     "name": "stdout",
     "output_type": "stream",
     "text": [
      "Correlation between Hour of crime and crime rate: 0.36\n"
     ]
    }
   ],
   "source": [
    "corr_crime = pd.read_sql_query(\"\"\"select Date(Occurred_On_Date) Occurred_On_Date, Hour, count(Incident_Num) Incidents_per_day_per_hour from Crime_Incident_Reports \n",
    "                                WHERE Year in (2021, 2020, 2019, 2018, 2017, 2016)\n",
    "                                GROUP BY Date(Occurred_On_Date), Hour;\"\"\", conn)\n",
    "corr_crime['Hour'] = corr_crime['Hour'].apply(pd.to_numeric)\n",
    "corrrel = round(corr_crime['Hour'].corr(corr_crime['Incidents_per_day_per_hour']),2)\n",
    "print(f\"Correlation between Hour of crime and crime rate: {corrrel}\")"
   ]
  },
  {
   "cell_type": "code",
   "execution_count": 27,
   "metadata": {},
   "outputs": [],
   "source": [
    "### "
   ]
  },
  {
   "cell_type": "code",
   "execution_count": 28,
   "metadata": {},
   "outputs": [],
   "source": [
    "corr_df = pd.read_sql_query(\"\"\"select Offense_Code, District, Year, Month, Day_Of_Week, \n",
    "                        Hour, Lat, Long, count(Incident_Num) No_of_Incidents from Crime_Incident_Reports \n",
    "                            WHERE Year in (2021, 2020, 2019, 2018, 2017, 2016)\n",
    "                            GROUP BY Offense_Code, District, Year, Month, Day_Of_Week, Hour, Lat, Long;\"\"\", conn)\n",
    "corr_df[['Year','Month','Hour','Lat','Long']] = corr_df[['Year','Month','Hour','Lat','Long']].apply(pd.to_numeric)\n",
    "le = LabelEncoder()\n",
    "corr_df['Offense_Code']= le.fit_transform(corr_df['Offense_Code'])\n",
    "corr_df['District']= le.fit_transform(corr_df['District'])\n",
    "corr_df['Day_Of_Week']= le.fit_transform(corr_df['Day_Of_Week'])"
   ]
  },
  {
   "cell_type": "code",
   "execution_count": 29,
   "metadata": {},
   "outputs": [
    {
     "data": {
      "image/png": "[encoded data removed]",
      "text/plain": [
       "<Figure size 1080x504 with 2 Axes>"
      ]
     },
     "metadata": {
      "needs_background": "light"
     },
     "output_type": "display_data"
    }
   ],
   "source": [
    "fig = plt.figure(figsize = (15, 7))\n",
    "corrMatrix = round(corr_df.corr(),2)\n",
    "sn.heatmap(corrMatrix, annot=True, cmap=\"YlGnBu\")\n",
    "plt.title('Correlation of different factors with eachother')\n",
    "plt.show()"
   ]
  },
  {
   "cell_type": "markdown",
   "metadata": {},
   "source": [
    "Inference: No strong correlation is observed between the factors and No. of incidents"
   ]
  },
  {
   "cell_type": "code",
   "execution_count": null,
   "metadata": {},
   "outputs": [],
   "source": []
  },
  {
   "cell_type": "code",
   "execution_count": 30,
   "metadata": {},
   "outputs": [
    {
     "data": {
      "text/html": [
       "<div>\n",
       "<style scoped>\n",
       "    .dataframe tbody tr th:only-of-type {\n",
       "        vertical-align: middle;\n",
       "    }\n",
       "\n",
       "    .dataframe tbody tr th {\n",
       "        vertical-align: top;\n",
       "    }\n",
       "\n",
       "    .dataframe thead th {\n",
       "        text-align: right;\n",
       "    }\n",
       "</style>\n",
       "<table border=\"1\" class=\"dataframe\">\n",
       "  <thead>\n",
       "    <tr style=\"text-align: right;\">\n",
       "      <th></th>\n",
       "      <th>district</th>\n",
       "      <th>historical_incidents</th>\n",
       "    </tr>\n",
       "  </thead>\n",
       "  <tbody>\n",
       "    <tr>\n",
       "      <th>0</th>\n",
       "      <td>A1</td>\n",
       "      <td>29653</td>\n",
       "    </tr>\n",
       "    <tr>\n",
       "      <th>1</th>\n",
       "      <td>A15</td>\n",
       "      <td>5621</td>\n",
       "    </tr>\n",
       "    <tr>\n",
       "      <th>2</th>\n",
       "      <td>A7</td>\n",
       "      <td>12783</td>\n",
       "    </tr>\n",
       "    <tr>\n",
       "      <th>3</th>\n",
       "      <td>B2</td>\n",
       "      <td>40640</td>\n",
       "    </tr>\n",
       "    <tr>\n",
       "      <th>4</th>\n",
       "      <td>B3</td>\n",
       "      <td>24812</td>\n",
       "    </tr>\n",
       "    <tr>\n",
       "      <th>5</th>\n",
       "      <td>C11</td>\n",
       "      <td>34609</td>\n",
       "    </tr>\n",
       "    <tr>\n",
       "      <th>6</th>\n",
       "      <td>C6</td>\n",
       "      <td>20767</td>\n",
       "    </tr>\n",
       "    <tr>\n",
       "      <th>7</th>\n",
       "      <td>D14</td>\n",
       "      <td>19520</td>\n",
       "    </tr>\n",
       "    <tr>\n",
       "      <th>8</th>\n",
       "      <td>D4</td>\n",
       "      <td>37908</td>\n",
       "    </tr>\n",
       "    <tr>\n",
       "      <th>9</th>\n",
       "      <td>E13</td>\n",
       "      <td>15167</td>\n",
       "    </tr>\n",
       "    <tr>\n",
       "      <th>10</th>\n",
       "      <td>E18</td>\n",
       "      <td>13985</td>\n",
       "    </tr>\n",
       "    <tr>\n",
       "      <th>11</th>\n",
       "      <td>E5</td>\n",
       "      <td>12226</td>\n",
       "    </tr>\n",
       "    <tr>\n",
       "      <th>12</th>\n",
       "      <td>HTU</td>\n",
       "      <td>8</td>\n",
       "    </tr>\n",
       "  </tbody>\n",
       "</table>\n",
       "</div>"
      ],
      "text/plain": [
       "   district  historical_incidents\n",
       "0        A1                 29653\n",
       "1       A15                  5621\n",
       "2        A7                 12783\n",
       "3        B2                 40640\n",
       "4        B3                 24812\n",
       "5       C11                 34609\n",
       "6        C6                 20767\n",
       "7       D14                 19520\n",
       "8        D4                 37908\n",
       "9       E13                 15167\n",
       "10      E18                 13985\n",
       "11       E5                 12226\n",
       "12      HTU                     8"
      ]
     },
     "metadata": {},
     "output_type": "display_data"
    },
    {
     "data": {
      "text/plain": [
       "<AxesSubplot:title={'center':'number of incidents for years 2012 - 2015'}, xlabel='district'>"
      ]
     },
     "execution_count": 30,
     "metadata": {},
     "output_type": "execute_result"
    },
    {
     "data": {
      "image/png": "[encoded data removed]",
      "text/plain": [
       "<Figure size 432x288 with 1 Axes>"
      ]
     },
     "metadata": {
      "needs_background": "light"
     },
     "output_type": "display_data"
    }
   ],
   "source": [
    "\n",
    "sql_statement = \"\"\"\n",
    "    select distinct \n",
    "        rept_district as district,\n",
    "        count(*) as historical_incidents\n",
    "    from \n",
    "     historical_data_crime_incident_reports      \n",
    "    group by  1       \n",
    "    having ltrim(rtrim(rept_district)) <> ''\n",
    "        and rept_district <> 'NULL'  \n",
    "    ;\"\"\"\n",
    "df = pd.read_sql_query(sql_statement, conn)\n",
    "display(df)\n",
    "\n",
    "df.plot(x = 'district', y = 'historical_incidents', kind = 'bar', title = 'number of incidents for years 2012 - 2015')"
   ]
  },
  {
   "cell_type": "code",
   "execution_count": 31,
   "metadata": {},
   "outputs": [
    {
     "data": {
      "text/html": [
       "<div>\n",
       "<style scoped>\n",
       "    .dataframe tbody tr th:only-of-type {\n",
       "        vertical-align: middle;\n",
       "    }\n",
       "\n",
       "    .dataframe tbody tr th {\n",
       "        vertical-align: top;\n",
       "    }\n",
       "\n",
       "    .dataframe thead th {\n",
       "        text-align: right;\n",
       "    }\n",
       "</style>\n",
       "<table border=\"1\" class=\"dataframe\">\n",
       "  <thead>\n",
       "    <tr style=\"text-align: right;\">\n",
       "      <th></th>\n",
       "      <th>weapon</th>\n",
       "      <th>count_of_weapons</th>\n",
       "    </tr>\n",
       "  </thead>\n",
       "  <tbody>\n",
       "    <tr>\n",
       "      <th>0</th>\n",
       "      <td>Blunt Object</td>\n",
       "      <td>78</td>\n",
       "    </tr>\n",
       "    <tr>\n",
       "      <th>1</th>\n",
       "      <td>Firearm</td>\n",
       "      <td>5299</td>\n",
       "    </tr>\n",
       "    <tr>\n",
       "      <th>2</th>\n",
       "      <td>Knife</td>\n",
       "      <td>3867</td>\n",
       "    </tr>\n",
       "    <tr>\n",
       "      <th>3</th>\n",
       "      <td>Knife/Cutting Instrument</td>\n",
       "      <td>177</td>\n",
       "    </tr>\n",
       "    <tr>\n",
       "      <th>4</th>\n",
       "      <td>None</td>\n",
       "      <td>11319</td>\n",
       "    </tr>\n",
       "    <tr>\n",
       "      <th>5</th>\n",
       "      <td>Other</td>\n",
       "      <td>52102</td>\n",
       "    </tr>\n",
       "    <tr>\n",
       "      <th>6</th>\n",
       "      <td>Personal Weapon (hand  foot  etc.)</td>\n",
       "      <td>282</td>\n",
       "    </tr>\n",
       "    <tr>\n",
       "      <th>7</th>\n",
       "      <td>Unarmed</td>\n",
       "      <td>194932</td>\n",
       "    </tr>\n",
       "  </tbody>\n",
       "</table>\n",
       "</div>"
      ],
      "text/plain": [
       "                               weapon  count_of_weapons\n",
       "0                        Blunt Object                78\n",
       "1                             Firearm              5299\n",
       "2                               Knife              3867\n",
       "3            Knife/Cutting Instrument               177\n",
       "4                                None             11319\n",
       "5                               Other             52102\n",
       "6  Personal Weapon (hand  foot  etc.)               282\n",
       "7                             Unarmed            194932"
      ]
     },
     "metadata": {},
     "output_type": "display_data"
    },
    {
     "data": {
      "text/plain": [
       "<AxesSubplot:title={'center':'number of incidents for years 2012 - 2015'}, xlabel='weapon'>"
      ]
     },
     "execution_count": 31,
     "metadata": {},
     "output_type": "execute_result"
    },
    {
     "data": {
      "image/png": "[encoded data removed]",
      "text/plain": [
       "<Figure size 432x288 with 1 Axes>"
      ]
     },
     "metadata": {
      "needs_background": "light"
     },
     "output_type": "display_data"
    }
   ],
   "source": [
    "\n",
    "sql_statement = \"\"\"\n",
    "\n",
    "    select distinct weapon_type as weapon,\n",
    "        count(*) as count_of_weapons\n",
    "    from historical_data_crime_incident_reports\n",
    "    group by 1\n",
    "    having ltrim(rtrim(weapon_type)) <> ''   \n",
    "    ;\"\"\"\n",
    "df = pd.read_sql_query(sql_statement, conn)\n",
    "display(df)\n",
    "\n",
    "df.plot(x = 'weapon', y = 'count_of_weapons', kind = 'bar', title = 'number of incidents for years 2012 - 2015')"
   ]
  },
  {
   "cell_type": "code",
   "execution_count": 32,
   "metadata": {},
   "outputs": [
    {
     "data": {
      "text/html": [
       "<div>\n",
       "<style scoped>\n",
       "    .dataframe tbody tr th:only-of-type {\n",
       "        vertical-align: middle;\n",
       "    }\n",
       "\n",
       "    .dataframe tbody tr th {\n",
       "        vertical-align: top;\n",
       "    }\n",
       "\n",
       "    .dataframe thead th {\n",
       "        text-align: right;\n",
       "    }\n",
       "</style>\n",
       "<table border=\"1\" class=\"dataframe\">\n",
       "  <thead>\n",
       "    <tr style=\"text-align: right;\">\n",
       "      <th></th>\n",
       "      <th>shooting_ind</th>\n",
       "      <th>domestic_ind</th>\n",
       "      <th>day_week</th>\n",
       "    </tr>\n",
       "  </thead>\n",
       "  <tbody>\n",
       "    <tr>\n",
       "      <th>0</th>\n",
       "      <td>0</td>\n",
       "      <td>0</td>\n",
       "      <td>7</td>\n",
       "    </tr>\n",
       "    <tr>\n",
       "      <th>1</th>\n",
       "      <td>1</td>\n",
       "      <td>0</td>\n",
       "      <td>7</td>\n",
       "    </tr>\n",
       "    <tr>\n",
       "      <th>2</th>\n",
       "      <td>0</td>\n",
       "      <td>0</td>\n",
       "      <td>7</td>\n",
       "    </tr>\n",
       "    <tr>\n",
       "      <th>3</th>\n",
       "      <td>0</td>\n",
       "      <td>0</td>\n",
       "      <td>7</td>\n",
       "    </tr>\n",
       "    <tr>\n",
       "      <th>4</th>\n",
       "      <td>0</td>\n",
       "      <td>0</td>\n",
       "      <td>7</td>\n",
       "    </tr>\n",
       "    <tr>\n",
       "      <th>...</th>\n",
       "      <td>...</td>\n",
       "      <td>...</td>\n",
       "      <td>...</td>\n",
       "    </tr>\n",
       "    <tr>\n",
       "      <th>268051</th>\n",
       "      <td>0</td>\n",
       "      <td>0</td>\n",
       "      <td>1</td>\n",
       "    </tr>\n",
       "    <tr>\n",
       "      <th>268052</th>\n",
       "      <td>0</td>\n",
       "      <td>0</td>\n",
       "      <td>1</td>\n",
       "    </tr>\n",
       "    <tr>\n",
       "      <th>268053</th>\n",
       "      <td>0</td>\n",
       "      <td>0</td>\n",
       "      <td>1</td>\n",
       "    </tr>\n",
       "    <tr>\n",
       "      <th>268054</th>\n",
       "      <td>0</td>\n",
       "      <td>0</td>\n",
       "      <td>1</td>\n",
       "    </tr>\n",
       "    <tr>\n",
       "      <th>268055</th>\n",
       "      <td>0</td>\n",
       "      <td>0</td>\n",
       "      <td>1</td>\n",
       "    </tr>\n",
       "  </tbody>\n",
       "</table>\n",
       "<p>268056 rows × 3 columns</p>\n",
       "</div>"
      ],
      "text/plain": [
       "        shooting_ind  domestic_ind  day_week\n",
       "0                  0             0         7\n",
       "1                  1             0         7\n",
       "2                  0             0         7\n",
       "3                  0             0         7\n",
       "4                  0             0         7\n",
       "...              ...           ...       ...\n",
       "268051             0             0         1\n",
       "268052             0             0         1\n",
       "268053             0             0         1\n",
       "268054             0             0         1\n",
       "268055             0             0         1\n",
       "\n",
       "[268056 rows x 3 columns]"
      ]
     },
     "metadata": {},
     "output_type": "display_data"
    },
    {
     "data": {
      "text/plain": [
       "array([[<AxesSubplot:title={'center':'shooting_ind'}>,\n",
       "        <AxesSubplot:title={'center':'domestic_ind'}>],\n",
       "       [<AxesSubplot:title={'center':'day_week'}>, <AxesSubplot:>]],\n",
       "      dtype=object)"
      ]
     },
     "execution_count": 32,
     "metadata": {},
     "output_type": "execute_result"
    },
    {
     "data": {
      "image/png": "[encoded data removed]",
      "text/plain": [
       "<Figure size 1440x720 with 4 Axes>"
      ]
     },
     "metadata": {
      "needs_background": "light"
     },
     "output_type": "display_data"
    }
   ],
   "source": [
    "\n",
    "sql_statement = \"\"\"\n",
    "\n",
    "    select  \n",
    "    \n",
    "        case \n",
    "            when shooting == 'No' then 0 else 1\n",
    "        end as shooting_ind,\n",
    "        case \n",
    "            when domestic == 'No' then 0 else 1\n",
    "        end as domestic_ind,\n",
    "        case \n",
    "            when day_week == 'Monday' then 1\n",
    "            when day_week == 'Tuesday' then 2\n",
    "            when day_week == 'Wednesday' then 3\n",
    "            when day_week == 'Thursday' then 4\n",
    "            when day_week == 'Friday' then 5\n",
    "            when day_week == 'Saturday' then 6\n",
    "            when day_week == 'Sunday' then 7\n",
    "        end as day_week\n",
    "    \n",
    "    from \n",
    "\n",
    "        historical_data_crime_incident_reports\n",
    "        \n",
    "    ;\"\"\"\n",
    "df = pd.read_sql_query(sql_statement, conn)\n",
    "display(df)\n",
    "\n",
    "df.hist(alpha=0.5, figsize=(20, 10), width=0.2)"
   ]
  },
  {
   "cell_type": "code",
   "execution_count": 33,
   "metadata": {},
   "outputs": [
    {
     "data": {
      "text/html": [
       "<div>\n",
       "<style scoped>\n",
       "    .dataframe tbody tr th:only-of-type {\n",
       "        vertical-align: middle;\n",
       "    }\n",
       "\n",
       "    .dataframe tbody tr th {\n",
       "        vertical-align: top;\n",
       "    }\n",
       "\n",
       "    .dataframe thead th {\n",
       "        text-align: right;\n",
       "    }\n",
       "</style>\n",
       "<table border=\"1\" class=\"dataframe\">\n",
       "  <thead>\n",
       "    <tr style=\"text-align: right;\">\n",
       "      <th></th>\n",
       "      <th>district</th>\n",
       "      <th>Crime_Score_Index</th>\n",
       "    </tr>\n",
       "  </thead>\n",
       "  <tbody>\n",
       "    <tr>\n",
       "      <th>0</th>\n",
       "      <td>D4</td>\n",
       "      <td>331</td>\n",
       "    </tr>\n",
       "    <tr>\n",
       "      <th>1</th>\n",
       "      <td>A1</td>\n",
       "      <td>325</td>\n",
       "    </tr>\n",
       "    <tr>\n",
       "      <th>2</th>\n",
       "      <td>C6</td>\n",
       "      <td>304</td>\n",
       "    </tr>\n",
       "    <tr>\n",
       "      <th>3</th>\n",
       "      <td>E13</td>\n",
       "      <td>293</td>\n",
       "    </tr>\n",
       "    <tr>\n",
       "      <th>4</th>\n",
       "      <td>B2</td>\n",
       "      <td>291</td>\n",
       "    </tr>\n",
       "    <tr>\n",
       "      <th>5</th>\n",
       "      <td>C11</td>\n",
       "      <td>285</td>\n",
       "    </tr>\n",
       "    <tr>\n",
       "      <th>6</th>\n",
       "      <td>A7</td>\n",
       "      <td>284</td>\n",
       "    </tr>\n",
       "    <tr>\n",
       "      <th>7</th>\n",
       "      <td>A15</td>\n",
       "      <td>277</td>\n",
       "    </tr>\n",
       "    <tr>\n",
       "      <th>8</th>\n",
       "      <td>D14</td>\n",
       "      <td>275</td>\n",
       "    </tr>\n",
       "    <tr>\n",
       "      <th>9</th>\n",
       "      <td>B3</td>\n",
       "      <td>273</td>\n",
       "    </tr>\n",
       "    <tr>\n",
       "      <th>10</th>\n",
       "      <td>E5</td>\n",
       "      <td>248</td>\n",
       "    </tr>\n",
       "    <tr>\n",
       "      <th>11</th>\n",
       "      <td>E18</td>\n",
       "      <td>247</td>\n",
       "    </tr>\n",
       "  </tbody>\n",
       "</table>\n",
       "</div>"
      ],
      "text/plain": [
       "   district  Crime_Score_Index\n",
       "0        D4                331\n",
       "1        A1                325\n",
       "2        C6                304\n",
       "3       E13                293\n",
       "4        B2                291\n",
       "5       C11                285\n",
       "6        A7                284\n",
       "7       A15                277\n",
       "8       D14                275\n",
       "9        B3                273\n",
       "10       E5                248\n",
       "11      E18                247"
      ]
     },
     "metadata": {},
     "output_type": "display_data"
    },
    {
     "data": {
      "text/plain": [
       "<AxesSubplot:xlabel='district'>"
      ]
     },
     "execution_count": 33,
     "metadata": {},
     "output_type": "execute_result"
    },
    {
     "data": {
      "image/png": "[encoded data removed]",
      "text/plain": [
       "<Figure size 432x288 with 1 Axes>"
      ]
     },
     "metadata": {
      "needs_background": "light"
     },
     "output_type": "display_data"
    }
   ],
   "source": [
    "# Safety Scoring for each district from the year 2015 - Present\n",
    "\n",
    "sql_statement = \"\"\"\n",
    "    select\n",
    "        \n",
    "        Crime_Incident_Reports.district as district\n",
    "        , sum(dp_crime_table_score_card.Crime_Score)/count(Crime_Incident_Reports.district) as Crime_Score_Index\n",
    "        --, count(Crime_Incident_Reports.Incident_Num)\n",
    "    \n",
    "    from \n",
    "    \n",
    "        Crime_Incident_Reports\n",
    "        left join dp_crime_table_score_card on dp_crime_table_score_card.Offense_Code = Crime_Incident_Reports.Offense_Code\n",
    "    \n",
    "    group by 1\n",
    "    \n",
    "    having\n",
    "    \n",
    "        ltrim(rtrim(Crime_Incident_Reports.district)) <> '' \n",
    "        and \n",
    "        lower(Crime_Incident_Reports.district) <> 'external'\n",
    "    \n",
    "    order by \n",
    "        \n",
    "        Crime_Score_Index desc\n",
    "    \"\"\"\n",
    "df = pd.read_sql_query(sql_statement, conn)\n",
    "display(df)\n",
    "\n",
    "df.plot(x = 'district', y = 'Crime_Score_Index', kind = 'bar')"
   ]
  },
  {
   "cell_type": "code",
   "execution_count": 34,
   "metadata": {
    "id": "lCrcS8M4ODgp"
   },
   "outputs": [
    {
     "data": {
      "text/html": [
       "<div>\n",
       "<style scoped>\n",
       "    .dataframe tbody tr th:only-of-type {\n",
       "        vertical-align: middle;\n",
       "    }\n",
       "\n",
       "    .dataframe tbody tr th {\n",
       "        vertical-align: top;\n",
       "    }\n",
       "\n",
       "    .dataframe thead th {\n",
       "        text-align: right;\n",
       "    }\n",
       "</style>\n",
       "<table border=\"1\" class=\"dataframe\">\n",
       "  <thead>\n",
       "    <tr style=\"text-align: right;\">\n",
       "      <th></th>\n",
       "      <th>Year</th>\n",
       "      <th>shooting</th>\n",
       "      <th>other_crimes</th>\n",
       "      <th>total_crimes</th>\n",
       "      <th>percentage_of_shootings</th>\n",
       "      <th>percentage_of_other_crimes</th>\n",
       "    </tr>\n",
       "  </thead>\n",
       "  <tbody>\n",
       "    <tr>\n",
       "      <th>0</th>\n",
       "      <td>2015</td>\n",
       "      <td>251</td>\n",
       "      <td>53346</td>\n",
       "      <td>53597</td>\n",
       "      <td>0.47</td>\n",
       "      <td>99.53</td>\n",
       "    </tr>\n",
       "    <tr>\n",
       "      <th>1</th>\n",
       "      <td>2016</td>\n",
       "      <td>345</td>\n",
       "      <td>99085</td>\n",
       "      <td>99430</td>\n",
       "      <td>0.35</td>\n",
       "      <td>99.65</td>\n",
       "    </tr>\n",
       "    <tr>\n",
       "      <th>2</th>\n",
       "      <td>2017</td>\n",
       "      <td>457</td>\n",
       "      <td>100881</td>\n",
       "      <td>101338</td>\n",
       "      <td>0.45</td>\n",
       "      <td>99.55</td>\n",
       "    </tr>\n",
       "    <tr>\n",
       "      <th>3</th>\n",
       "      <td>2018</td>\n",
       "      <td>402</td>\n",
       "      <td>98486</td>\n",
       "      <td>98888</td>\n",
       "      <td>0.41</td>\n",
       "      <td>99.59</td>\n",
       "    </tr>\n",
       "    <tr>\n",
       "      <th>4</th>\n",
       "      <td>2019</td>\n",
       "      <td>617</td>\n",
       "      <td>66992</td>\n",
       "      <td>67609</td>\n",
       "      <td>0.91</td>\n",
       "      <td>99.09</td>\n",
       "    </tr>\n",
       "    <tr>\n",
       "      <th>5</th>\n",
       "      <td>2020</td>\n",
       "      <td>1122</td>\n",
       "      <td>69772</td>\n",
       "      <td>70894</td>\n",
       "      <td>1.58</td>\n",
       "      <td>98.42</td>\n",
       "    </tr>\n",
       "    <tr>\n",
       "      <th>6</th>\n",
       "      <td>2021</td>\n",
       "      <td>860</td>\n",
       "      <td>64155</td>\n",
       "      <td>65015</td>\n",
       "      <td>1.32</td>\n",
       "      <td>98.68</td>\n",
       "    </tr>\n",
       "  </tbody>\n",
       "</table>\n",
       "</div>"
      ],
      "text/plain": [
       "   Year  shooting  other_crimes  total_crimes  percentage_of_shootings  \\\n",
       "0  2015       251         53346         53597                     0.47   \n",
       "1  2016       345         99085         99430                     0.35   \n",
       "2  2017       457        100881        101338                     0.45   \n",
       "3  2018       402         98486         98888                     0.41   \n",
       "4  2019       617         66992         67609                     0.91   \n",
       "5  2020      1122         69772         70894                     1.58   \n",
       "6  2021       860         64155         65015                     1.32   \n",
       "\n",
       "   percentage_of_other_crimes  \n",
       "0                       99.53  \n",
       "1                       99.65  \n",
       "2                       99.55  \n",
       "3                       99.59  \n",
       "4                       99.09  \n",
       "5                       98.42  \n",
       "6                       98.68  "
      ]
     },
     "metadata": {},
     "output_type": "display_data"
    },
    {
     "data": {
      "text/html": [
       "<div>\n",
       "<style scoped>\n",
       "    .dataframe tbody tr th:only-of-type {\n",
       "        vertical-align: middle;\n",
       "    }\n",
       "\n",
       "    .dataframe tbody tr th {\n",
       "        vertical-align: top;\n",
       "    }\n",
       "\n",
       "    .dataframe thead th {\n",
       "        text-align: right;\n",
       "    }\n",
       "</style>\n",
       "<table border=\"1\" class=\"dataframe\">\n",
       "  <thead>\n",
       "    <tr style=\"text-align: right;\">\n",
       "      <th></th>\n",
       "      <th>Year</th>\n",
       "      <th>percentage_of_shootings</th>\n",
       "      <th>percentage_of_other_crimes</th>\n",
       "    </tr>\n",
       "  </thead>\n",
       "  <tbody>\n",
       "    <tr>\n",
       "      <th>0</th>\n",
       "      <td>2015</td>\n",
       "      <td>0.47</td>\n",
       "      <td>99.53</td>\n",
       "    </tr>\n",
       "    <tr>\n",
       "      <th>1</th>\n",
       "      <td>2016</td>\n",
       "      <td>0.35</td>\n",
       "      <td>99.65</td>\n",
       "    </tr>\n",
       "    <tr>\n",
       "      <th>2</th>\n",
       "      <td>2017</td>\n",
       "      <td>0.45</td>\n",
       "      <td>99.55</td>\n",
       "    </tr>\n",
       "    <tr>\n",
       "      <th>3</th>\n",
       "      <td>2018</td>\n",
       "      <td>0.41</td>\n",
       "      <td>99.59</td>\n",
       "    </tr>\n",
       "    <tr>\n",
       "      <th>4</th>\n",
       "      <td>2019</td>\n",
       "      <td>0.91</td>\n",
       "      <td>99.09</td>\n",
       "    </tr>\n",
       "    <tr>\n",
       "      <th>5</th>\n",
       "      <td>2020</td>\n",
       "      <td>1.58</td>\n",
       "      <td>98.42</td>\n",
       "    </tr>\n",
       "    <tr>\n",
       "      <th>6</th>\n",
       "      <td>2021</td>\n",
       "      <td>1.32</td>\n",
       "      <td>98.68</td>\n",
       "    </tr>\n",
       "  </tbody>\n",
       "</table>\n",
       "</div>"
      ],
      "text/plain": [
       "   Year  percentage_of_shootings  percentage_of_other_crimes\n",
       "0  2015                     0.47                       99.53\n",
       "1  2016                     0.35                       99.65\n",
       "2  2017                     0.45                       99.55\n",
       "3  2018                     0.41                       99.59\n",
       "4  2019                     0.91                       99.09\n",
       "5  2020                     1.58                       98.42\n",
       "6  2021                     1.32                       98.68"
      ]
     },
     "metadata": {},
     "output_type": "display_data"
    },
    {
     "data": {
      "text/plain": [
       "<AxesSubplot:title={'center':'Shootings to Other Crime Ratio'}, xlabel='Year'>"
      ]
     },
     "execution_count": 34,
     "metadata": {},
     "output_type": "execute_result"
    },
    {
     "data": {
      "image/png": "[encoded data removed]",
      "text/plain": [
       "<Figure size 432x288 with 1 Axes>"
      ]
     },
     "metadata": {
      "needs_background": "light"
     },
     "output_type": "display_data"
    },
    {
     "data": {
      "image/png": "[encoded data removed]",
      "text/plain": [
       "<Figure size 432x288 with 1 Axes>"
      ]
     },
     "metadata": {
      "needs_background": "light"
     },
     "output_type": "display_data"
    }
   ],
   "source": [
    "sql_statement = \"\"\"\n",
    "    with shooting_details as\n",
    "    (\n",
    "        select\n",
    "           case \n",
    "               when Shooting in ('Y',1) then 1\n",
    "               else 0\n",
    "            end as Shooting_ind,\n",
    "            Year\n",
    "\n",
    "        from \n",
    "\n",
    "            Crime_Incident_Reports\n",
    "\n",
    "    )\n",
    "    select \n",
    "\n",
    "        year,\n",
    "        sum(shooting_ind) as shooting,\n",
    "        sum(case when Shooting_ind = 0 then 1 end) as other_crimes,\n",
    "        count(year) as total_crimes,\n",
    "        round(cast(sum(shooting_ind) as float)/cast(count(year) as float)*100,2) as percentage_of_shootings,\n",
    "        round(cast(sum(case when Shooting_ind = 0 then 1 end) as float)/cast(count(year) as float)*100,2) as percentage_of_other_crimes \n",
    "\n",
    "    from shooting_details\n",
    "    group by 1\n",
    "    \n",
    "    \"\"\"\n",
    "\n",
    "df = pd.read_sql_query(sql_statement, conn)\n",
    "display(df)\n",
    "df.plot(x = 'Year', y = 'percentage_of_shootings', kind = 'bar', title = 'Ratio of % of shootings to the year')\n",
    "df1 = df[['Year','percentage_of_shootings', 'percentage_of_other_crimes']]\n",
    "display(df1)\n",
    "df1.plot.bar(x = 'Year', title = 'Shootings to Other Crime Ratio', grid = True, fontsize = 14, position = 1)\n"
   ]
  },
  {
   "cell_type": "code",
   "execution_count": 35,
   "metadata": {},
   "outputs": [
    {
     "data": {
      "text/html": [
       "<div>\n",
       "<style scoped>\n",
       "    .dataframe tbody tr th:only-of-type {\n",
       "        vertical-align: middle;\n",
       "    }\n",
       "\n",
       "    .dataframe tbody tr th {\n",
       "        vertical-align: top;\n",
       "    }\n",
       "\n",
       "    .dataframe thead th {\n",
       "        text-align: right;\n",
       "    }\n",
       "</style>\n",
       "<table border=\"1\" class=\"dataframe\">\n",
       "  <thead>\n",
       "    <tr style=\"text-align: right;\">\n",
       "      <th></th>\n",
       "      <th>Ethnicity</th>\n",
       "      <th>total_fatal_incidents</th>\n",
       "    </tr>\n",
       "  </thead>\n",
       "  <tbody>\n",
       "    <tr>\n",
       "      <th>0</th>\n",
       "      <td>Hispanic or Latinx</td>\n",
       "      <td>301</td>\n",
       "    </tr>\n",
       "    <tr>\n",
       "      <th>1</th>\n",
       "      <td>Not Hispanic or Latinx</td>\n",
       "      <td>1201</td>\n",
       "    </tr>\n",
       "    <tr>\n",
       "      <th>2</th>\n",
       "      <td>Unknown</td>\n",
       "      <td>60</td>\n",
       "    </tr>\n",
       "  </tbody>\n",
       "</table>\n",
       "</div>"
      ],
      "text/plain": [
       "                Ethnicity  total_fatal_incidents\n",
       "0      Hispanic or Latinx                    301\n",
       "1  Not Hispanic or Latinx                   1201\n",
       "2                 Unknown                     60"
      ]
     },
     "metadata": {},
     "output_type": "display_data"
    },
    {
     "data": {
      "text/plain": [
       "<AxesSubplot:title={'center':'Ratio of Fatal incidents among different ethnicity'}, xlabel='Ethnicity'>"
      ]
     },
     "execution_count": 35,
     "metadata": {},
     "output_type": "execute_result"
    },
    {
     "data": {
      "image/png": "[encoded data removed]",
      "text/plain": [
       "<Figure size 432x288 with 1 Axes>"
      ]
     },
     "metadata": {
      "needs_background": "light"
     },
     "output_type": "display_data"
    }
   ],
   "source": [
    "\n",
    "sql_statement = \"\"\"\n",
    "    select \n",
    "    \n",
    "        Victim_Ethnicity_NIBRS as Ethnicity,\n",
    "        count(*) as total_fatal_incidents\n",
    "        \n",
    "    from \n",
    "    \n",
    "        Shootings\n",
    "        \n",
    "    group by 1\n",
    "    \n",
    "    having \n",
    "        \n",
    "        ltrim(rtrim(Victim_Ethnicity_NIBRS)) <> ''\n",
    "    \n",
    "    ;\n",
    "    \"\"\"\n",
    "\n",
    "df = pd.read_sql_query(sql_statement, conn)\n",
    "display(df)\n",
    "\n",
    "df.plot.bar(x = 'Ethnicity', title = 'Ratio of Fatal incidents among different ethnicity', grid = True, fontsize = 14, position = 1)\n"
   ]
  },
  {
   "cell_type": "code",
   "execution_count": 36,
   "metadata": {},
   "outputs": [
    {
     "data": {
      "text/html": [
       "<div>\n",
       "<style scoped>\n",
       "    .dataframe tbody tr th:only-of-type {\n",
       "        vertical-align: middle;\n",
       "    }\n",
       "\n",
       "    .dataframe tbody tr th {\n",
       "        vertical-align: top;\n",
       "    }\n",
       "\n",
       "    .dataframe thead th {\n",
       "        text-align: right;\n",
       "    }\n",
       "</style>\n",
       "<table border=\"1\" class=\"dataframe\">\n",
       "  <thead>\n",
       "    <tr style=\"text-align: right;\">\n",
       "      <th></th>\n",
       "      <th>Race</th>\n",
       "      <th>total_fatal_incidents</th>\n",
       "    </tr>\n",
       "  </thead>\n",
       "  <tbody>\n",
       "    <tr>\n",
       "      <th>0</th>\n",
       "      <td>Asian</td>\n",
       "      <td>6</td>\n",
       "    </tr>\n",
       "    <tr>\n",
       "      <th>1</th>\n",
       "      <td>Black or African American</td>\n",
       "      <td>1258</td>\n",
       "    </tr>\n",
       "    <tr>\n",
       "      <th>2</th>\n",
       "      <td>Unknown</td>\n",
       "      <td>55</td>\n",
       "    </tr>\n",
       "    <tr>\n",
       "      <th>3</th>\n",
       "      <td>White</td>\n",
       "      <td>249</td>\n",
       "    </tr>\n",
       "  </tbody>\n",
       "</table>\n",
       "</div>"
      ],
      "text/plain": [
       "                        Race  total_fatal_incidents\n",
       "0                      Asian                      6\n",
       "1  Black or African American                   1258\n",
       "2                    Unknown                     55\n",
       "3                      White                    249"
      ]
     },
     "metadata": {},
     "output_type": "display_data"
    },
    {
     "data": {
      "text/plain": [
       "<AxesSubplot:title={'center':'Ratio of Fatal incidents among different races'}, xlabel='Race'>"
      ]
     },
     "execution_count": 36,
     "metadata": {},
     "output_type": "execute_result"
    },
    {
     "data": {
      "image/png": "[encoded data removed]",
      "text/plain": [
       "<Figure size 432x288 with 1 Axes>"
      ]
     },
     "metadata": {
      "needs_background": "light"
     },
     "output_type": "display_data"
    }
   ],
   "source": [
    "\n",
    "sql_statement = \"\"\"\n",
    "    select \n",
    "    \n",
    "        Victim_Race as Race,\n",
    "        count(*) as total_fatal_incidents\n",
    "        \n",
    "    from \n",
    "    \n",
    "        Shootings\n",
    "        \n",
    "    group by 1\n",
    "    \n",
    "    having \n",
    "        \n",
    "        ltrim(rtrim(Victim_Race)) <> ''\n",
    "    \n",
    "    ;\n",
    "    \"\"\"\n",
    "\n",
    "df = pd.read_sql_query(sql_statement, conn)\n",
    "display(df)\n",
    "\n",
    "df.plot.bar(x = 'Race', y = 'total_fatal_incidents', title = 'Ratio of Fatal incidents among different races', grid = True, fontsize = 14, position = 1)\n"
   ]
  },
  {
   "cell_type": "code",
   "execution_count": 37,
   "metadata": {},
   "outputs": [
    {
     "data": {
      "text/html": [
       "<div>\n",
       "<style scoped>\n",
       "    .dataframe tbody tr th:only-of-type {\n",
       "        vertical-align: middle;\n",
       "    }\n",
       "\n",
       "    .dataframe tbody tr th {\n",
       "        vertical-align: top;\n",
       "    }\n",
       "\n",
       "    .dataframe thead th {\n",
       "        text-align: right;\n",
       "    }\n",
       "</style>\n",
       "<table border=\"1\" class=\"dataframe\">\n",
       "  <thead>\n",
       "    <tr style=\"text-align: right;\">\n",
       "      <th></th>\n",
       "      <th>Gender</th>\n",
       "      <th>total_fatal_incidents</th>\n",
       "    </tr>\n",
       "  </thead>\n",
       "  <tbody>\n",
       "    <tr>\n",
       "      <th>0</th>\n",
       "      <td>Female</td>\n",
       "      <td>161</td>\n",
       "    </tr>\n",
       "    <tr>\n",
       "      <th>1</th>\n",
       "      <td>Male</td>\n",
       "      <td>1416</td>\n",
       "    </tr>\n",
       "  </tbody>\n",
       "</table>\n",
       "</div>"
      ],
      "text/plain": [
       "   Gender  total_fatal_incidents\n",
       "0  Female                    161\n",
       "1    Male                   1416"
      ]
     },
     "metadata": {},
     "output_type": "display_data"
    },
    {
     "data": {
      "text/plain": [
       "<AxesSubplot:title={'center':'Ratio of Fatal incidents among genders'}, xlabel='Gender'>"
      ]
     },
     "execution_count": 37,
     "metadata": {},
     "output_type": "execute_result"
    },
    {
     "data": {
      "image/png": "[encoded data removed]",
      "text/plain": [
       "<Figure size 432x288 with 1 Axes>"
      ]
     },
     "metadata": {
      "needs_background": "light"
     },
     "output_type": "display_data"
    }
   ],
   "source": [
    "\n",
    "sql_statement = \"\"\"\n",
    "    select \n",
    "    \n",
    "        Victim_Gender as Gender,\n",
    "        count(*) as total_fatal_incidents\n",
    "        \n",
    "    from \n",
    "    \n",
    "        Shootings\n",
    "        \n",
    "    group by 1\n",
    "    \n",
    "    having \n",
    "        \n",
    "        ltrim(rtrim(Victim_Gender)) <> '' \n",
    "    \n",
    "    ;\n",
    "    \"\"\"\n",
    "\n",
    "df = pd.read_sql_query(sql_statement, conn)\n",
    "display(df)\n",
    "\n",
    "df.plot.bar(x = 'Gender', y = 'total_fatal_incidents', title = 'Ratio of Fatal incidents among genders', grid = True, fontsize = 14, position = 1)\n"
   ]
  },
  {
   "cell_type": "code",
   "execution_count": 38,
   "metadata": {
    "id": "mGg-j6QyQug-"
   },
   "outputs": [
    {
     "data": {
      "text/html": [
       "<div>\n",
       "<style scoped>\n",
       "    .dataframe tbody tr th:only-of-type {\n",
       "        vertical-align: middle;\n",
       "    }\n",
       "\n",
       "    .dataframe tbody tr th {\n",
       "        vertical-align: top;\n",
       "    }\n",
       "\n",
       "    .dataframe thead th {\n",
       "        text-align: right;\n",
       "    }\n",
       "</style>\n",
       "<table border=\"1\" class=\"dataframe\">\n",
       "  <thead>\n",
       "    <tr style=\"text-align: right;\">\n",
       "      <th></th>\n",
       "      <th>fatal_incidents</th>\n",
       "      <th>total_fatal_incidents</th>\n",
       "    </tr>\n",
       "  </thead>\n",
       "  <tbody>\n",
       "    <tr>\n",
       "      <th>0</th>\n",
       "      <td>Fatal</td>\n",
       "      <td>261</td>\n",
       "    </tr>\n",
       "    <tr>\n",
       "      <th>1</th>\n",
       "      <td>Non-Fatal</td>\n",
       "      <td>1325</td>\n",
       "    </tr>\n",
       "  </tbody>\n",
       "</table>\n",
       "</div>"
      ],
      "text/plain": [
       "  fatal_incidents  total_fatal_incidents\n",
       "0           Fatal                    261\n",
       "1       Non-Fatal                   1325"
      ]
     },
     "metadata": {},
     "output_type": "display_data"
    },
    {
     "data": {
      "text/plain": [
       "<AxesSubplot:title={'center':'Ratio of Fatal incidents vs total number of incidents'}, xlabel='fatal_incidents'>"
      ]
     },
     "execution_count": 38,
     "metadata": {},
     "output_type": "execute_result"
    },
    {
     "data": {
      "image/png": "[encoded data removed]",
      "text/plain": [
       "<Figure size 432x288 with 1 Axes>"
      ]
     },
     "metadata": {
      "needs_background": "light"
     },
     "output_type": "display_data"
    }
   ],
   "source": [
    "\n",
    "sql_statement = \"\"\"\n",
    "    select \n",
    "    \n",
    "        Shooting_Type_V2 as fatal_incidents,\n",
    "        count(*) as total_fatal_incidents\n",
    "        \n",
    "    from \n",
    "    \n",
    "        Shootings\n",
    "        \n",
    "    group by 1\n",
    "    \n",
    "    ;\n",
    "    \"\"\"\n",
    "\n",
    "df = pd.read_sql_query(sql_statement, conn)\n",
    "display(df)\n",
    "\n",
    "df.plot.bar(x = 'fatal_incidents', y = 'total_fatal_incidents', title = 'Ratio of Fatal incidents vs total number of incidents', grid = True, fontsize = 14, position = 1)\n",
    "\n"
   ]
  },
  {
   "cell_type": "code",
   "execution_count": 39,
   "metadata": {
    "id": "7YHTyc5cepBB"
   },
   "outputs": [
    {
     "data": {
      "text/html": [
       "<div>\n",
       "<style scoped>\n",
       "    .dataframe tbody tr th:only-of-type {\n",
       "        vertical-align: middle;\n",
       "    }\n",
       "\n",
       "    .dataframe tbody tr th {\n",
       "        vertical-align: top;\n",
       "    }\n",
       "\n",
       "    .dataframe thead th {\n",
       "        text-align: right;\n",
       "    }\n",
       "</style>\n",
       "<table border=\"1\" class=\"dataframe\">\n",
       "  <thead>\n",
       "    <tr style=\"text-align: right;\">\n",
       "      <th></th>\n",
       "      <th>Victims</th>\n",
       "      <th>total_fatal_incidents</th>\n",
       "    </tr>\n",
       "  </thead>\n",
       "  <tbody>\n",
       "    <tr>\n",
       "      <th>0</th>\n",
       "      <td>Multiple_Victims</td>\n",
       "      <td>457</td>\n",
       "    </tr>\n",
       "    <tr>\n",
       "      <th>1</th>\n",
       "      <td>Single_Victim</td>\n",
       "      <td>1129</td>\n",
       "    </tr>\n",
       "  </tbody>\n",
       "</table>\n",
       "</div>"
      ],
      "text/plain": [
       "            Victims  total_fatal_incidents\n",
       "0  Multiple_Victims                    457\n",
       "1     Single_Victim                   1129"
      ]
     },
     "metadata": {},
     "output_type": "display_data"
    },
    {
     "data": {
      "text/plain": [
       "<AxesSubplot:title={'center':'Ratio of Fatal incidents among number of Victims'}, xlabel='Victims'>"
      ]
     },
     "execution_count": 39,
     "metadata": {},
     "output_type": "execute_result"
    },
    {
     "data": {
      "image/png": "[encoded data removed]",
      "text/plain": [
       "<Figure size 432x288 with 1 Axes>"
      ]
     },
     "metadata": {
      "needs_background": "light"
     },
     "output_type": "display_data"
    }
   ],
   "source": [
    "\n",
    "sql_statement = \"\"\"\n",
    "    select \n",
    "    \n",
    "        case \n",
    "            when Multi_Victim == 't' then 'Multiple_Victims'\n",
    "            else 'Single_Victim'\n",
    "        end as Victims,\n",
    "        count(*) as total_fatal_incidents\n",
    "        \n",
    "    from \n",
    "    \n",
    "        Shootings\n",
    "        \n",
    "    group by 1\n",
    "    \n",
    "    having \n",
    "        \n",
    "        ltrim(rtrim(Multi_Victim)) <> ''\n",
    "    \n",
    "    ;\n",
    "    \"\"\"\n",
    "\n",
    "df = pd.read_sql_query(sql_statement, conn)\n",
    "display(df)\n",
    "\n",
    "df.plot.bar(x = 'Victims', y = 'total_fatal_incidents', title = 'Ratio of Fatal incidents among number of Victims', grid = True, fontsize = 14, position = 1)\n",
    "\n"
   ]
  },
  {
   "cell_type": "code",
   "execution_count": 40,
   "metadata": {},
   "outputs": [
    {
     "data": {
      "text/html": [
       "<div>\n",
       "<style scoped>\n",
       "    .dataframe tbody tr th:only-of-type {\n",
       "        vertical-align: middle;\n",
       "    }\n",
       "\n",
       "    .dataframe tbody tr th {\n",
       "        vertical-align: top;\n",
       "    }\n",
       "\n",
       "    .dataframe thead th {\n",
       "        text-align: right;\n",
       "    }\n",
       "</style>\n",
       "<table border=\"1\" class=\"dataframe\">\n",
       "  <thead>\n",
       "    <tr style=\"text-align: right;\">\n",
       "      <th></th>\n",
       "      <th>death_during_arrest</th>\n",
       "      <th>during_transport</th>\n",
       "      <th>death_during_while_in_holding_cell</th>\n",
       "      <th>prisoner_sex_mf</th>\n",
       "      <th>total_incidents</th>\n",
       "    </tr>\n",
       "  </thead>\n",
       "  <tbody>\n",
       "    <tr>\n",
       "      <th>0</th>\n",
       "      <td>0</td>\n",
       "      <td>0</td>\n",
       "      <td>1</td>\n",
       "      <td>F</td>\n",
       "      <td>1</td>\n",
       "    </tr>\n",
       "    <tr>\n",
       "      <th>1</th>\n",
       "      <td>0</td>\n",
       "      <td>0</td>\n",
       "      <td>1</td>\n",
       "      <td>M</td>\n",
       "      <td>4</td>\n",
       "    </tr>\n",
       "    <tr>\n",
       "      <th>2</th>\n",
       "      <td>0</td>\n",
       "      <td>1</td>\n",
       "      <td>0</td>\n",
       "      <td>M</td>\n",
       "      <td>1</td>\n",
       "    </tr>\n",
       "  </tbody>\n",
       "</table>\n",
       "</div>"
      ],
      "text/plain": [
       "   death_during_arrest  during_transport  death_during_while_in_holding_cell  \\\n",
       "0                    0                 0                                   1   \n",
       "1                    0                 0                                   1   \n",
       "2                    0                 1                                   0   \n",
       "\n",
       "  prisoner_sex_mf  total_incidents  \n",
       "0               F                1  \n",
       "1               M                4  \n",
       "2               M                1  "
      ]
     },
     "metadata": {},
     "output_type": "display_data"
    },
    {
     "data": {
      "text/plain": [
       "array([[<AxesSubplot:title={'center':'death_during_arrest'}>,\n",
       "        <AxesSubplot:title={'center':'during_transport'}>],\n",
       "       [<AxesSubplot:title={'center':'death_during_while_in_holding_cell'}>,\n",
       "        <AxesSubplot:title={'center':'total_incidents'}>]], dtype=object)"
      ]
     },
     "execution_count": 40,
     "metadata": {},
     "output_type": "execute_result"
    },
    {
     "data": {
      "image/png": "[encoded data removed]",
      "text/plain": [
       "<Figure size 1440x720 with 4 Axes>"
      ]
     },
     "metadata": {
      "needs_background": "light"
     },
     "output_type": "display_data"
    }
   ],
   "source": [
    "\n",
    "sql_statement = \"\"\"\n",
    "    select \n",
    "    \n",
    "        case when during_arrest == 'No' then 0 else 1 end as death_during_arrest,\n",
    "        case when during_transport == 'No' then 0 else 1 end as during_transport,\n",
    "        case when while_in_holding_cell == 'No' then 0 else 1 end as death_during_while_in_holding_cell,\n",
    "        prisoner_sex_mf,\n",
    "        count(*) as total_incidents\n",
    "    \n",
    "    from \n",
    "    \n",
    "        in_custody_deaths\n",
    "    \n",
    "    group by\n",
    "    \n",
    "        1,2,3,4\n",
    "    ;\n",
    "    \"\"\"\n",
    "df = pd.read_sql_query(sql_statement, conn)\n",
    "display(df)\n",
    "df.hist(alpha=0.5, figsize=(20, 10))\n"
   ]
  },
  {
   "cell_type": "code",
   "execution_count": 41,
   "metadata": {
    "colab": {
     "base_uri": "https://localhost:8080/",
     "height": 234
    },
    "id": "lEFyRlttDdwi",
    "outputId": "832d811c-f1b2-4ab3-c911-5ac24af10a7a"
   },
   "outputs": [],
   "source": [
    "conn.close()"
   ]
  },
  {
   "cell_type": "markdown",
   "metadata": {},
   "source": [
    "## Inferences"
   ]
  },
  {
   "cell_type": "markdown",
   "metadata": {},
   "source": [
    "## Future Score"
   ]
  }
 ],
 "metadata": {
  "colab": {
   "collapsed_sections": [],
   "name": "Boston_Crime_Rate_Analysis.ipynb",
   "provenance": []
  },
  "kernelspec": {
   "display_name": "Python 3",
   "language": "python",
   "name": "python3"
  },
  "language_info": {
   "codemirror_mode": {
    "name": "ipython",
    "version": 3
   },
   "file_extension": ".py",
   "mimetype": "text/x-python",
   "name": "python",
   "nbconvert_exporter": "python",
   "pygments_lexer": "ipython3",
   "version": "3.8.8"
  }
 },
 "nbformat": 4,
 "nbformat_minor": 1
}
